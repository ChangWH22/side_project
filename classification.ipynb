{
 "cells": [
  {
   "cell_type": "code",
   "execution_count": 4,
   "metadata": {},
   "outputs": [],
   "source": [
    "import numpy as np\n",
    "import pandas as pd"
   ]
  },
  {
   "cell_type": "code",
   "execution_count": 11,
   "metadata": {},
   "outputs": [
    {
     "data": {
      "text/plain": [
       "(array([[33.,  1.,  0., ..., 52.,  0.,  1.],\n",
       "        [63.,  1.,  0., ..., 52.,  0.,  1.],\n",
       "        [71.,  0.,  0., ...,  0.,  0.,  1.],\n",
       "        ...,\n",
       "        [16.,  0.,  0., ...,  8.,  1.,  0.],\n",
       "        [48.,  1.,  0., ..., 52.,  0.,  1.],\n",
       "        [48.,  0.,  0., ...,  0.,  0.,  1.]]),\n",
       " array([1., 0., 0., ..., 0., 0., 0.]))"
      ]
     },
     "execution_count": 11,
     "metadata": {},
     "output_type": "execute_result"
    }
   ],
   "source": [
    "with open('C:/Users/user/Desktop/data/X_train') as f:\n",
    "    next(f)\n",
    "    X_train = np.array([line.strip('\\n').split(',')[1:] for line in f], dtype = float)\n",
    "\n",
    "with open('C:/Users/user/Desktop/data/Y_train') as f:\n",
    "    next(f)\n",
    "    Y_train = np.array([line.strip('\\n').split(',')[1] for line in f], dtype = float)\n",
    "    \n",
    "with open('C:/Users/user/Desktop/data/X_test') as f:\n",
    "    next(f)\n",
    "    X_test = np.array([line.strip('\\n').split(',')[1:] for line in f], dtype = float)\n",
    "    \n",
    "X_train, Y_train"
   ]
  },
  {
   "cell_type": "code",
   "execution_count": 12,
   "metadata": {},
   "outputs": [
    {
     "name": "stdout",
     "output_type": "stream",
     "text": [
      "(54256, 510)\n",
      "(54256,)\n",
      "(27622, 510)\n"
     ]
    }
   ],
   "source": [
    "print(X_train.shape)\n",
    "print(Y_train.shape)\n",
    "print(X_test.shape)"
   ]
  },
  {
   "cell_type": "code",
   "execution_count": 14,
   "metadata": {
    "scrolled": true
   },
   "outputs": [
    {
     "name": "stdout",
     "output_type": "stream",
     "text": [
      "Size of X_train: (30383, 510)\n",
      "Size of Y_train: (30383,)\n",
      "Size of X_val: (7596, 510)\n",
      "Size of Y_val: (7596,)\n"
     ]
    }
   ],
   "source": [
    "def _normalize(X, train = True, specified_column = None, X_mean = None, X_std = None):\n",
    "    # This function normalizes specific columns of X.\n",
    "    # The mean and standard variance of training data will be reused when processing testing data.\n",
    "    #\n",
    "    # Arguments:\n",
    "    #     X: data to be processed\n",
    "    #     train: 'True' when processing training data, 'False' for testing data\n",
    "    #     specific_column: indexes of the columns that will be normalized. If 'None', all columns\n",
    "    #         will be normalized.\n",
    "    #     X_mean: mean value of training data, used when train = 'False'\n",
    "    #     X_std: standard deviation of training data, used when train = 'False'\n",
    "    # Outputs:\n",
    "    #     X: normalized data\n",
    "    #     X_mean: computed mean value of training data\n",
    "    #     X_std: computed standard deviation of training data\n",
    "\n",
    "    if specified_column == None:\n",
    "        specified_column = np.arange(X.shape[1])\n",
    "    if train:\n",
    "        X_mean = np.mean(X[:, specified_column] ,0).reshape(1, -1)\n",
    "        X_std  = np.std(X[:, specified_column], 0).reshape(1, -1)\n",
    "\n",
    "    X[:,specified_column] = (X[:, specified_column] - X_mean) / (X_std + 1e-8)\n",
    "     \n",
    "    return X, X_mean, X_std\n",
    "\n",
    "def _train_test_split(X, Y, ratio = 0.25):\n",
    "    # This function spilts data into training set and test set.\n",
    "    train_size = int(len(X) * (1 - ratio))\n",
    "    return X[:train_size], Y[:train_size], X[train_size:], Y[train_size:]\n",
    "\n",
    "# Normalize training and testing data\n",
    "X_train, X_mean, X_std = _normalize(X_train, train = True)\n",
    "X_test, _, _= _normalize(X_test, train = False, specified_column = None, X_mean = X_mean, X_std = X_std)\n",
    "    \n",
    "# Split data into training set and validation set\n",
    "\n",
    "X_train, Y_train, X_val, Y_val = _train_test_split(X_train, Y_train, ratio = 0.2)\n",
    "\n",
    "print('Size of X_train: {}'.format(X_train.shape))\n",
    "print('Size of Y_train: {}'.format(Y_train.shape))\n",
    "print('Size of X_val: {}'.format(X_val.shape))\n",
    "print('Size of Y_val: {}'.format(Y_val.shape))\n",
    "\n"
   ]
  },
  {
   "cell_type": "markdown",
   "metadata": {},
   "source": [
    "# tool function"
   ]
  },
  {
   "cell_type": "markdown",
   "metadata": {},
   "source": [
    "### sigmoid function\n",
    " - sigmoid function can be used to calculate probability\n",
    " \n",
    "$\\sigma(z) = \\frac{1}{1+exp(-z)}$ "
   ]
  },
  {
   "cell_type": "code",
   "execution_count": 22,
   "metadata": {},
   "outputs": [],
   "source": [
    "def _sigmoid(z):\n",
    "    # np.clip 將數字限定在區間(min,max)內\n",
    "    return np.clip(1/(1+np.exp(-z)),1e-8,1-1e-8) "
   ]
  },
  {
   "cell_type": "markdown",
   "metadata": {},
   "source": [
    "### logistic regression function\n",
    "$f_{w,b}(x) = \\sigma(\\Sigma(X_i \\cdot W_i +b))$ "
   ]
  },
  {
   "cell_type": "code",
   "execution_count": 23,
   "metadata": {},
   "outputs": [],
   "source": [
    "def _f(X,w,b):\n",
    "    #　輸出:\n",
    "    #    羅吉斯回歸後的機率\n",
    "    #np.matmul = @\n",
    "    return _sigmoid(np.matmul(X,w)+b)"
   ]
  },
  {
   "cell_type": "code",
   "execution_count": 24,
   "metadata": {},
   "outputs": [],
   "source": [
    "def _accuracy(predict, label):\n",
    "    return 1-np.mean(np.abs(predict - label))"
   ]
  },
  {
   "cell_type": "markdown",
   "metadata": {},
   "source": [
    "# function about Gradient and Loss"
   ]
  },
  {
   "cell_type": "markdown",
   "metadata": {},
   "source": [
    "### Loss\n",
    "<p>cross entropy 作為損失函數，$-\\Sigma_i(y_i\\cdot log(\\hat{y}_i)+(1-y_i) \\cdot log(1-\\hat{y}_i))$ 其中$y_i$是實際標籤，$\\hat{y}_i$代表模預測</p>\n",
    "<p>若模型是多分類，則cross entropy簡化成$-\\Sigma_i(y_i \\cdot log(\\hat{y}_i))$</p>\n",
    "<p>概似函數lnf(x)對w取偏微分</p>\n",
    "$\\frac{\\partial lnL(w,b)}{\\partial wi} = -\\sum_{n}((y_i^{n}-f_{w,b}(x^n))x_i^n)$<br><br>\n",
    "梯度下降公式: <br><br>\n",
    "$w_i \\leftarrow w_i - \\eta \\sum_n(-(y_i^{n}-f_{w,b}(x^n))x_i^n)$ "
   ]
  },
  {
   "cell_type": "code",
   "execution_count": 25,
   "metadata": {},
   "outputs": [],
   "source": [
    "def _cross_entropy_loss(y_pred, Y_label):\n",
    "    cross_entropy = -np.dot(Y_label, np.log(y_pred)) - np.dot((1 - Y_label), np.log(1 - y_pred))\n",
    "    return cross_entropy"
   ]
  },
  {
   "cell_type": "code",
   "execution_count": 26,
   "metadata": {},
   "outputs": [],
   "source": [
    "def _gradient(X, Y_label, w,b):\n",
    "    y_pred = _f(X, w, b)\n",
    "    pred_error = Y_label-y_pred\n",
    "    w_grad = -np.sum(pred_error * X.T, 1)\n",
    "    b_grad = -np.sum(pred_error)\n",
    "    return w_grad, b_grad"
   ]
  },
  {
   "cell_type": "code",
   "execution_count": 80,
   "metadata": {
    "scrolled": true
   },
   "outputs": [],
   "source": [
    "# initialization for weight and bias\n",
    "\n",
    "w = np.zeros(X_train.shape[1],)\n",
    "b = np.zeros(1,)\n",
    "max_itr = 10\n",
    "batch_size = 10\n",
    "learning_rate = 0.1\n",
    "\n",
    "train_loss =[]\n",
    "valid_loss = []\n",
    "train_acc = []\n",
    "valid_acc = []\n",
    "step = 1\n",
    "\n",
    "for epoch in range(max_itr):\n",
    "    randomize = np.arange(X_train.shape[0])\n",
    "    np.random.shuffle(randomize)\n",
    "    \n",
    "    X_train = X_train[randomize]\n",
    "    Y_train = Y_train[randomize]\n",
    "    #print('epoch {}:'.format(epoch))\n",
    "    \n",
    "    # mini-batch training\n",
    "    for idx in range(int(X_train.shape[0] / batch_size)):\n",
    "        X = X_train[idx*batch_size:(idx+1)*batch_size]\n",
    "        Y = Y_train[idx*batch_size:(idx+1)*batch_size]\n",
    "\n",
    "        #compute the gradient\n",
    "        w_grad, b_grad = _gradient(X,Y,w,b)\n",
    "\n",
    "        #gradient descent update\n",
    "        w -= learning_rate/np.sqrt(step) * w_grad\n",
    "        b -= learning_rate/np.sqrt(step) * b_grad\n",
    "\n",
    "        step += 1\n",
    "\n",
    "        #compute loss and accuracy for training set and validation set\n",
    "        if step % 200 ==0:\n",
    "            y_train_pred = _f(X_train, w, b)\n",
    "            Y_train_pred = np.round(y_train_pred)\n",
    "            \n",
    "            _train_acc = _accuracy(Y_train_pred,Y_train)\n",
    "            train_acc.append(_train_acc)\n",
    "            _train_loss = _cross_entropy_loss(y_train_pred, Y_train)/ Y_train.shape[0]\n",
    "            train_loss.append(_train_loss)\n",
    "\n",
    "            y_valid_pred = _f(X_val, w, b)\n",
    "            Y_valid_pred = np.round(y_valid_pred)\n",
    "            \n",
    "            _valid_acc = _accuracy(Y_valid_pred,Y_val)\n",
    "            valid_acc.append(_valid_acc)\n",
    "            _valid_loss = _cross_entropy_loss(y_valid_pred, Y_val)/ Y_val.shape[0]\n",
    "            valid_loss.append(_valid_loss)\n",
    "            #print('step {}: '.format(step))\n",
    "            #print('train loss: {:.4f}  valid loss: {:.4f}'.format(_train_loss,_valid_loss))\n",
    "            #print('trian acc: {:.4f}  valid acc: {:.4f}'.format(_train_acc,_valid_acc))\n"
   ]
  },
  {
   "cell_type": "code",
   "execution_count": 77,
   "metadata": {
    "scrolled": true
   },
   "outputs": [
    {
     "data": {
      "image/png": "[encoded data removed]",
      "text/plain": [
       "<Figure size 432x288 with 1 Axes>"
      ]
     },
     "metadata": {
      "needs_background": "light"
     },
     "output_type": "display_data"
    }
   ],
   "source": [
    "import matplotlib.pyplot as plt\n",
    "\n",
    "# Loss curve\n",
    "plt.plot(train_loss)\n",
    "plt.plot(valid_loss)\n",
    "plt.title('Loss')\n",
    "plt.legend(['train', 'valid'])\n",
    "plt.show()\n",
    "\n"
   ]
  },
  {
   "cell_type": "code",
   "execution_count": 78,
   "metadata": {},
   "outputs": [
    {
     "data": {
      "image/png": "[encoded data removed]",
      "text/plain": [
       "<Figure size 432x288 with 1 Axes>"
      ]
     },
     "metadata": {
      "needs_background": "light"
     },
     "output_type": "display_data"
    }
   ],
   "source": [
    "# Accuracy curve\n",
    "plt.plot(train_acc)\n",
    "plt.plot(valid_acc)\n",
    "plt.title('Accuracy')\n",
    "plt.legend(['train', 'valid'])\n",
    "plt.savefig('acc.png')\n",
    "plt.show()"
   ]
  }
 ],
 "metadata": {
  "kernelspec": {
   "display_name": "Python 3",
   "language": "python",
   "name": "python3"
  },
  "language_info": {
   "codemirror_mode": {
    "name": "ipython",
    "version": 3
   },
   "file_extension": ".py",
   "mimetype": "text/x-python",
   "name": "python",
   "nbconvert_exporter": "python",
   "pygments_lexer": "ipython3",
   "version": "3.6.8"
  }
 },
 "nbformat": 4,
 "nbformat_minor": 2
}
